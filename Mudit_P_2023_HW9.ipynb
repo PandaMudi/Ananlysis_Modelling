{
 "cells": [
  {
   "cell_type": "markdown",
   "metadata": {},
   "source": [
    "# Phyiscs Problems - Lectures 18 & 19 - Homework 9 \n",
    "\n",
    "FALL 2023\n"
   ]
  },
  {
   "cell_type": "markdown",
   "metadata": {},
   "source": [
    "### 1) Altitude of a satellite\n",
    "\n",
    "A satellite is to be launched into a circular orbit around the Earth so that it orbits the planet once every T seconds.\n",
    "\n",
    "The altitude h above the Earth’s surface that the satellite must have is:\n",
    "\n",
    "$$h = \\left( \\frac{G M T^2}{4\\pi^2} \\right)^{1/3} - R$$\n",
    "\n",
    "where $G = 6.67 \\times 10^{-11}$ m$^3$ kg$^{-1}$ s$^{-2}$\n",
    "is Newton's gravitational constant, $M = 5.97 \\times 10^{24}$ kg is the mass of the Earth, and $R = 6371$ km is its radius.\n",
    "\n",
    "#### Write a program that asks the user to enter the desired value of T and then calculates and prints out the correct altitude in meters.\n"
   ]
  },
  {
   "cell_type": "code",
   "execution_count": 28,
   "metadata": {},
   "outputs": [
    {
     "data": {
      "text/plain": [
       "1.652432993710888e+20"
      ]
     },
     "execution_count": 28,
     "metadata": {},
     "output_type": "execute_result"
    }
   ],
   "source": [
    "import numpy as np\n",
    "def altitude(T):\n",
    "    G = (6.67) * (10**(-11))\n",
    "    M =(5.97)*(10**24)\n",
    "    R = (6371)*(10**3)\n",
    "    h = (((((G*M)*(T)**2)/(4*(3.14)**2))**1/3) - R)\n",
    "    #print('altitude is', h,'meter')\n",
    "    return h\n",
    "altitude(7007)\n"
   ]
  },
  {
   "cell_type": "markdown",
   "metadata": {},
   "source": [
    "Use your program to calculate the altitudes of satellites that orbit the Earth once\n",
    "a day (so-called “geosynchronous” orbit), once every 90 minutes, and once every\n",
    "45 minutes. What do you conclude from the last of these calculations?\n",
    "\n",
    "\n",
    "\n"
   ]
  },
  {
   "cell_type": "code",
   "execution_count": 26,
   "metadata": {},
   "outputs": [
    {
     "name": "stdout",
     "output_type": "stream",
     "text": [
      "altitude is 2.5123902989979294e+22 meter\n",
      "rachel is a meanie\n"
     ]
    }
   ],
   "source": [
    "import numpy as np\n",
    "def altitude1(T):\n",
    "    G = (6.67) * (10**(-11))\n",
    "    M =(5.97)*(10**24)\n",
    "    R = (6371)*(10**3)\n",
    "    for i in range(86400):\n",
    "        if (T==86400):\n",
    "            h = ((((G*M)*(T)**2)/(4*(3.14)**2))**1/3) - R\n",
    "            print('altitude is', h,'meter')\n",
    "            print('rachel is a meanie')\n",
    "            break\n",
    "        elif(T >= 90*60):\n",
    "            h = ((((G*M)*(T)**2)/(4*(3.14)**2))**1/3) - R\n",
    "            print('altitude_ is', h,'meter')\n",
    "            print('oh no')\n",
    "            break\n",
    "        elif(T >= 45*60):\n",
    "            h = ((((G*M)*(T)**2)/(4*(3.14)**2))**1/3) - R\n",
    "            print('altitude_- is', h,'meter')\n",
    "            print('ahoy')\n",
    "            break\n",
    "        else:\n",
    "            print('welp')\n",
    "            break\n",
    "        \n",
    "            \n",
    "    \n",
    "altitude1(86400)"
   ]
  },
  {
   "cell_type": "markdown",
   "metadata": {},
   "source": [
    "Technically a geosynchronous satellite is one that orbits the Earth once persidereal\n",
    "day, which is 23.93 hours, not 24 hours. Why is this? And how much difference\n",
    "will it make to the altitude of the satellite?"
   ]
  },
  {
   "cell_type": "code",
   "execution_count": null,
   "metadata": {},
   "outputs": [],
   "source": []
  },
  {
   "cell_type": "markdown",
   "metadata": {},
   "source": [
    "#### Modify your code to calculate the times from 0.5 hour  to 30 days, in steps of 0.5 hours.   Then plot those data points (time vs h) with properly labled axes.  Plot orbits with height below 0 as red, and plots positive heeghts with times less than geosynchronous in blue and those longer in green."
   ]
  },
  {
   "cell_type": "code",
   "execution_count": 32,
   "metadata": {},
   "outputs": [
    {
     "ename": "NameError",
     "evalue": "name 'T' is not defined",
     "output_type": "error",
     "traceback": [
      "\u001b[0;31m---------------------------------------------------------------------------\u001b[0m",
      "\u001b[0;31mNameError\u001b[0m                                 Traceback (most recent call last)",
      "\u001b[0;32m/var/folders/8n/_zsxbt555mg2xb2p3pskzrjh0000gn/T/ipykernel_771/3118532617.py\u001b[0m in \u001b[0;36m<module>\u001b[0;34m\u001b[0m\n\u001b[1;32m     10\u001b[0m \u001b[0;31m#R = (6371)*(10**3)\u001b[0m\u001b[0;34m\u001b[0m\u001b[0;34m\u001b[0m\u001b[0m\n\u001b[1;32m     11\u001b[0m \u001b[0;31m#h = ((((G*M)*(T)**2)/4*(3.14)**2)**1/3) - R\u001b[0m\u001b[0;34m\u001b[0m\u001b[0;34m\u001b[0m\u001b[0m\n\u001b[0;32m---> 12\u001b[0;31m \u001b[0mpoints\u001b[0m \u001b[0;34m=\u001b[0m \u001b[0marange\u001b[0m\u001b[0;34m(\u001b[0m\u001b[0;36m0.0\u001b[0m\u001b[0;34m,\u001b[0m\u001b[0mT\u001b[0m\u001b[0;34m,\u001b[0m\u001b[0mh\u001b[0m\u001b[0;34m)\u001b[0m\u001b[0;34m\u001b[0m\u001b[0;34m\u001b[0m\u001b[0m\n\u001b[0m\u001b[1;32m     13\u001b[0m \u001b[0;32mfor\u001b[0m \u001b[0mt\u001b[0m \u001b[0;32min\u001b[0m \u001b[0mpoints\u001b[0m\u001b[0;34m:\u001b[0m\u001b[0;34m\u001b[0m\u001b[0;34m\u001b[0m\u001b[0m\n\u001b[1;32m     14\u001b[0m     \u001b[0malt_points\u001b[0m\u001b[0;34m.\u001b[0m\u001b[0mappend\u001b[0m\u001b[0;34m(\u001b[0m\u001b[0mtime_points\u001b[0m\u001b[0;34m)\u001b[0m\u001b[0;34m\u001b[0m\u001b[0;34m\u001b[0m\u001b[0m\n",
      "\u001b[0;31mNameError\u001b[0m: name 'T' is not defined"
     ]
    }
   ],
   "source": [
    "import numpy as np\n",
    "from numpy import arange\n",
    "from pylab import plot,xlabel,ylabel,show\n",
    "time_points = []\n",
    "alt_points = []\n",
    "t=0\n",
    "#T = 0\n",
    "#G = (6.67) * (10**(-11))\n",
    "#M =(5.97)*(10**24)\n",
    "#R = (6371)*(10**3)\n",
    "#h = ((((G*M)*(T)**2)/4*(3.14)**2)**1/3) - R\n",
    "\n",
    "points = arange(0.0,T,h)\n",
    "for t in points:\n",
    "    alt_points.append(time_points)\n",
    "    for i in range(2628002): #30*24*60*60\n",
    "        if i%1800 == 2 & i!=0: #0.5*60*60\n",
    "            altitude(i)\n",
    "            \n",
    "altitude1(100)\n",
    "plot(points,alt_points, c='r')\n",
    "plot(points,time_points, c='g') # plot Tl vs. time\n",
    "xlabel(\"Time(s)\")\n",
    "ylabel(\"altitude(m)\")\n",
    "show()"
   ]
  },
  {
   "cell_type": "markdown",
   "metadata": {},
   "source": [
    "### 2) Special Relativity\n",
    "\n",
    "A spaceship travels from Earth in a straight line at a (relativistic)\n",
    "speed $v$ to another planet $x$ light years away. Write a program to ask\n",
    "the user for the value of $x$ and the speed $v$ as a fraction of the speed\n",
    "of light, then print out the time in years that the spaceship takes to\n",
    "reach its destination (a) in the rest frame of an observer on Earth\n",
    "and (b) as perceived by a passenger on board the ship.\n",
    "\n",
    "$$x' = \\gamma (x - vt)$$\n",
    "\n",
    "$$t' = \\gamma \\left(t - \\frac{v x}{c^2}\\right)$$\n",
    "\n",
    "$$\\gamma = \\frac{1}{\\sqrt{1 - \\frac{v^2}{c^2}}}$$\n"
   ]
  },
  {
   "cell_type": "code",
   "execution_count": null,
   "metadata": {},
   "outputs": [],
   "source": []
  },
  {
   "cell_type": "markdown",
   "metadata": {},
   "source": [
    "#### Use your program to calculate the answers for a planet 10 light years away with $v = 0.90c$,  $v = 0.98c$, $v = 0.999c$."
   ]
  },
  {
   "cell_type": "code",
   "execution_count": null,
   "metadata": {},
   "outputs": [],
   "source": []
  },
  {
   "cell_type": "markdown",
   "metadata": {},
   "source": [
    "### 3) The quadratic equation\n",
    "\n",
    " Write a program that takes as input three numbers, $a$, $b$, and $c$, and prints out the two solutions to the quadratic equation $ax^2 + bx + c = 0$ using the standard\n",
    "formula:\n",
    "\n",
    "$$x = \\frac{-b \\pm \\sqrt{b^2 - 4ac}}{2a}$$\n",
    "\n",
    "Use your program to compute the solutions of $0.001x^2 + 1000x + 0.001 = 0$."
   ]
  },
  {
   "cell_type": "code",
   "execution_count": null,
   "metadata": {},
   "outputs": [],
   "source": []
  },
  {
   "cell_type": "markdown",
   "metadata": {},
   "source": [
    "There is another way to write the solutions to a quadratic equation. Multiplying top and bottom of the solution above by $-b \\mp \\sqrt{b^2 - 4ac}$, show that the solutions\n",
    "can also be written as:\n",
    "\n",
    "$$x = \\frac{2c}{-b \\mp \\sqrt{b^2 - 4ac}}$$\n",
    "\n",
    "Add further lines to your program to print these values in addition to the earlier ones and again use the program to solve $0.001x^2 + 1000x + 0.001 = 0$. What do you see? How do you explain it?"
   ]
  },
  {
   "cell_type": "code",
   "execution_count": null,
   "metadata": {},
   "outputs": [],
   "source": []
  },
  {
   "cell_type": "markdown",
   "metadata": {},
   "source": [
    "Using what you have learned, write a new program that calculates both roots of a quadratic equation accurately in all cases."
   ]
  },
  {
   "cell_type": "markdown",
   "metadata": {},
   "source": [
    "### 4) Planetary orbits\n",
    "\n",
    "The orbit in space of one body around another, such as a planet around the Sun, need not be circular. In general it takes the form of an ellipse, with the body sometimes closer in and sometimes further out. If you are given the distance $l_1$ of closest approach that a planet makes to the Sun, also called its perihelion, and its linear velocity $v_1$ at *perihelion*, then any other property of the orbit can be calculated from these two as follows.\n",
    "\n",
    "Kepler’s second law tells us that the distance $l_2$ and velocity $v_2$ of the planet at its most distant point, or *aphelion*, satisfy $l_2 v_2 = l_1 v_1$. \n",
    "\n",
    "\n",
    "Given the values of $v_1$, $l_1$, and $l_2$, other parameters of the orbit are given by simple formulas can that be derived from Kepler’s laws and the fact that the orbit is an ellipse:\n",
    "\n",
    "Semi-Major Axis $$ a = \\frac{1}{2} (l_1 + l_2) $$ \n",
    "Semi-Minor Axis: $$ b = \\sqrt{l_1  l_2} $$ \n",
    "Orbital Period: $$ T = \\frac{2 \\pi a b}{l_1 v_1} $$ \n",
    "Orbital eccentricity:  $$ e = \\frac{l_2 - l_1}{l_2 + l_1}$$\n",
    "\n",
    "#### Write a program with functions that asks the user to enter the distance to the Sun and velocity at perihelion, then calculates and prints the quantities $l2$, $v2$, $a$, $b$, $T$, and $e$.\n",
    "\n",
    "\n"
   ]
  },
  {
   "cell_type": "code",
   "execution_count": null,
   "metadata": {},
   "outputs": [],
   "source": []
  },
  {
   "cell_type": "markdown",
   "metadata": {},
   "source": [
    "#### Test your program by having it calculate the properties of the orbits of the Earth (for which $l_1 = 1.4710 \\times 10^{11}$ m and $v_1 = 3.0287 \\times 10^4$ m s$^{−1}$ ) and Halley’s comet ($l_1 = 8.7830 \\times 10^{10}$ m and $v_1 = 5.4529 \\times 10^4$ m s${−1}$ ). Among other things, you should find that the orbital period of the Earth is one year and that of Halley’s comet is about 76 years."
   ]
  },
  {
   "cell_type": "code",
   "execution_count": null,
   "metadata": {},
   "outputs": [],
   "source": []
  }
 ],
 "metadata": {
  "kernelspec": {
   "display_name": "Python 3 (ipykernel)",
   "language": "python",
   "name": "python3"
  },
  "language_info": {
   "codemirror_mode": {
    "name": "ipython",
    "version": 3
   },
   "file_extension": ".py",
   "mimetype": "text/x-python",
   "name": "python",
   "nbconvert_exporter": "python",
   "pygments_lexer": "ipython3",
   "version": "3.9.13"
  }
 },
 "nbformat": 4,
 "nbformat_minor": 4
}
